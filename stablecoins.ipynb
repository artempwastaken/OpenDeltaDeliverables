{
 "cells": [
  {
   "cell_type": "code",
   "execution_count": 63,
   "metadata": {},
   "outputs": [],
   "source": [
    "import numpy as np\n",
    "\n",
    "from cryptocmd import CmcScraper\n",
    "from pandas import to_datetime"
   ]
  },
  {
   "cell_type": "markdown",
   "metadata": {},
   "source": [
    "TUSD, USDP, USDC, DAI, USDD"
   ]
  },
  {
   "cell_type": "code",
   "execution_count": 64,
   "metadata": {},
   "outputs": [
    {
     "data": {
      "text/plain": [
       "0.1521176130476516"
      ]
     },
     "execution_count": 64,
     "metadata": {},
     "output_type": "execute_result"
    }
   ],
   "source": [
    "scraper = CmcScraper('TUSD', '01-01-2018', '01-01-2024')\n",
    "\n",
    "tusd_data = scraper.get_dataframe().iloc[::-1]\n",
    "tusd_data = tusd_data.reset_index(drop=True)\n",
    "tusd_data['Date'] = to_datetime(tusd_data['Date'])\n",
    "\n",
    "tusd_idx_max = tusd_data['Market Cap'].idxmax()\n",
    "tusd_data = tusd_data[:tusd_idx_max]\n",
    "\n",
    "tusd_monthly = tusd_data.set_index('Date').resample('M').last()\n",
    "tusd_monthly = tusd_monthly.drop(['Open', 'High', 'Low', 'Close', 'Volume'], axis=1)\n",
    "tusd_monthly['MC Change'] = tusd_monthly['Market Cap'].pct_change()\n",
    "\n",
    "tusd_monthly = tusd_monthly.replace([np.inf, -np.inf], np.nan).dropna()\n",
    "tusd_monthly_average = tusd_monthly['MC Change'].mean()\n",
    "tusd_monthly_average"
   ]
  },
  {
   "cell_type": "code",
   "execution_count": 65,
   "metadata": {},
   "outputs": [
    {
     "data": {
      "text/plain": [
       "0.1193023765049562"
      ]
     },
     "execution_count": 65,
     "metadata": {},
     "output_type": "execute_result"
    }
   ],
   "source": [
    "scraper = CmcScraper('USDP', '01-01-2018', '01-01-2024')\n",
    "\n",
    "usdp_data = scraper.get_dataframe().iloc[::-1]\n",
    "usdp_data = usdp_data.reset_index(drop=True)\n",
    "usdp_data['Date'] = to_datetime(usdp_data['Date'])\n",
    "\n",
    "usdp_idx_max = usdp_data['Market Cap'].idxmax()\n",
    "usdp_data = usdp_data[:usdp_idx_max]\n",
    "\n",
    "usdp_monthly = usdp_data.set_index('Date').resample('M').last()\n",
    "usdp_monthly = usdp_monthly.drop(['Open', 'High', 'Low', 'Close', 'Volume'], axis=1)\n",
    "usdp_monthly['MC Change'] = usdp_monthly['Market Cap'].pct_change()\n",
    "\n",
    "usdp_monthly = usdp_monthly.replace([np.inf, -np.inf], np.nan).dropna()\n",
    "usdp_monthly_average = usdp_monthly['MC Change'].mean()\n",
    "usdp_monthly_average"
   ]
  },
  {
   "cell_type": "code",
   "execution_count": 66,
   "metadata": {},
   "outputs": [
    {
     "data": {
      "text/plain": [
       "0.16389925982481737"
      ]
     },
     "execution_count": 66,
     "metadata": {},
     "output_type": "execute_result"
    }
   ],
   "source": [
    "scraper = CmcScraper('USDC', '01-01-2018', '01-01-2024')\n",
    "\n",
    "usdc_data = scraper.get_dataframe().iloc[::-1]\n",
    "usdc_data = usdc_data.reset_index(drop=True)\n",
    "usdc_data['Date'] = to_datetime(usdc_data['Date'])\n",
    "\n",
    "usdc_idx_max = usdc_data['Market Cap'].idxmax()\n",
    "usdc_data = usdc_data[:usdc_idx_max]\n",
    "\n",
    "usdc_monthly = usdc_data.set_index('Date').resample('M').last()\n",
    "usdc_monthly = usdc_monthly.drop(['Open', 'High', 'Low', 'Close', 'Volume'], axis=1)\n",
    "usdc_monthly['MC Change'] = usdc_monthly['Market Cap'].pct_change()\n",
    "\n",
    "usdc_monthly = usdc_monthly.replace([np.inf, -np.inf], np.nan).dropna()\n",
    "usdc_monthly_average = usdc_monthly['MC Change'].mean()\n",
    "usdc_monthly_average"
   ]
  },
  {
   "cell_type": "code",
   "execution_count": 67,
   "metadata": {},
   "outputs": [
    {
     "data": {
      "text/plain": [
       "0.24724093842169206"
      ]
     },
     "execution_count": 67,
     "metadata": {},
     "output_type": "execute_result"
    }
   ],
   "source": [
    "scraper = CmcScraper('DAI', '01-01-2019', '01-01-2024')\n",
    "\n",
    "dai_data = scraper.get_dataframe().iloc[::-1]\n",
    "dai_data = dai_data.reset_index(drop=True)\n",
    "dai_data['Date'] = to_datetime(dai_data['Date'])\n",
    "\n",
    "dai_idx_max = dai_data['Market Cap'].idxmax()\n",
    "dai_data = dai_data[:dai_idx_max]\n",
    "\n",
    "dai_monthly = dai_data.set_index('Date').resample('M').last()\n",
    "dai_monthly = dai_monthly.drop(['Open', 'High', 'Low', 'Close', 'Volume'], axis=1)\n",
    "dai_monthly['MC Change'] = dai_monthly['Market Cap'].pct_change()\n",
    "\n",
    "dai_monthly = dai_monthly.replace([np.inf, -np.inf], np.nan).dropna()\n",
    "dai_monthly_average = dai_monthly['MC Change'].mean()\n",
    "dai_monthly_average"
   ]
  },
  {
   "cell_type": "code",
   "execution_count": 68,
   "metadata": {},
   "outputs": [
    {
     "data": {
      "text/plain": [
       "0.060060941383284216"
      ]
     },
     "execution_count": 68,
     "metadata": {},
     "output_type": "execute_result"
    }
   ],
   "source": [
    "scraper = CmcScraper('USDD', '01-01-2022', '01-01-2024')\n",
    "\n",
    "usdd_data = scraper.get_dataframe().iloc[::-1]\n",
    "usdd_data = usdd_data.reset_index(drop=True)\n",
    "usdd_data['Date'] = to_datetime(usdd_data['Date'])\n",
    "\n",
    "usdd_idx_max = usdd_data['Market Cap'].idxmax()\n",
    "usdd_data = usdd_data[:usdd_idx_max]\n",
    "\n",
    "usdd_monthly = usdd_data.set_index('Date').resample('M').last()\n",
    "usdd_monthly = usdd_monthly.drop(['Open', 'High', 'Low', 'Close', 'Volume'], axis=1)\n",
    "usdd_monthly['MC Change'] = usdd_monthly['Market Cap'].pct_change()\n",
    "\n",
    "usdd_monthly = usdd_monthly.replace([np.inf, -np.inf], np.nan).dropna()\n",
    "usdd_monthly_average = usdd_monthly['MC Change'].mean()\n",
    "usdd_monthly_average"
   ]
  },
  {
   "cell_type": "code",
   "execution_count": 69,
   "metadata": {},
   "outputs": [
    {
     "data": {
      "text/plain": [
       "0.14852422583648028"
      ]
     },
     "execution_count": 69,
     "metadata": {},
     "output_type": "execute_result"
    }
   ],
   "source": [
    "np.mean([tusd_monthly_average, usdp_monthly_average, usdc_monthly_average, dai_monthly_average, usdd_monthly_average])"
   ]
  }
 ],
 "metadata": {
  "kernelspec": {
   "display_name": "analysis",
   "language": "python",
   "name": "python3"
  },
  "language_info": {
   "codemirror_mode": {
    "name": "ipython",
    "version": 3
   },
   "file_extension": ".py",
   "mimetype": "text/x-python",
   "name": "python",
   "nbconvert_exporter": "python",
   "pygments_lexer": "ipython3",
   "version": "3.10.4"
  }
 },
 "nbformat": 4,
 "nbformat_minor": 2
}
