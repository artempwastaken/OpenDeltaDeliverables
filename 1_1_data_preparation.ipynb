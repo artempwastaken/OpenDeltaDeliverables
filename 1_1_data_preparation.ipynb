{
 "cells": [
  {
   "cell_type": "code",
   "execution_count": 1,
   "metadata": {},
   "outputs": [
    {
     "data": {
      "text/plain": [
       "True"
      ]
     },
     "execution_count": 1,
     "metadata": {},
     "output_type": "execute_result"
    }
   ],
   "source": [
    "import os\n",
    "\n",
    "from data_collector import DataCollector, ccxt\n",
    "\n",
    "from dotenv import load_dotenv\n",
    "\n",
    "\n",
    "load_dotenv('.env')"
   ]
  },
  {
   "cell_type": "code",
   "execution_count": 2,
   "metadata": {},
   "outputs": [],
   "source": [
    "api_key = os.environ.get('CG_API_KEY')\n",
    "\n",
    "instance = DataCollector(api_key)"
   ]
  },
  {
   "cell_type": "markdown",
   "metadata": {},
   "source": [
    "Huobi BTCUSD Perpetual\n",
    "CoinGlass: BTC-USD\n",
    "ccxt: BTC/USD:BTC\n",
    "timestamp: 2020-03-25"
   ]
  },
  {
   "cell_type": "code",
   "execution_count": 3,
   "metadata": {},
   "outputs": [],
   "source": [
    "huobi_data = instance.get_all('Huobi', 'BTC/USD:BTC', 'BTC-USD', '1d', '01.03.2020', '01.01.2024')\n",
    "huobi_data.to_csv('data/btc inverse perps/Huobi_1d.csv')"
   ]
  },
  {
   "cell_type": "markdown",
   "metadata": {},
   "source": [
    "Binance BTCUSD CM\n",
    "CoinGlass: BTCUSD_PERP\n",
    "ccxt: BTCUSD_PERP\n",
    "timestamp: Maximum time interval is 200 days."
   ]
  },
  {
   "cell_type": "code",
   "execution_count": 5,
   "metadata": {},
   "outputs": [],
   "source": [
    "binance_data = instance.get_all('Binance', 'BTC/USD:BTC', 'BTCUSD_PERP', '1d', '01.08.2023', '01.01.2024', True)\n",
    "binance_data.to_csv('data/btc inverse perps/Binance_1d.csv')"
   ]
  },
  {
   "cell_type": "markdown",
   "metadata": {},
   "source": [
    "Deribit BTC-PERPETUAL\n",
    "CoinGlass: BTC-PERPETUAL\n",
    "ccxt: BTC/USD:BTC\n",
    "timestamp: 2018-08-14"
   ]
  },
  {
   "cell_type": "code",
   "execution_count": 42,
   "metadata": {},
   "outputs": [],
   "source": [
    "deribit_data = instance.get_all('Deribit', 'BTC/USD:BTC', 'BTC-PERPETUAL', '1d', '01.08.2018', '01.01.2024')\n",
    "deribit_data.to_csv('data/btc inverse perps/Deribit_1d.csv')"
   ]
  },
  {
   "cell_type": "markdown",
   "metadata": {},
   "source": [
    "Bybit BTCUSD\n",
    "CoinGlass: BTCUSD\n",
    "ccxt: BTC/USD:BTC\n",
    "timestamp: 2018-11-14"
   ]
  },
  {
   "cell_type": "code",
   "execution_count": 45,
   "metadata": {},
   "outputs": [],
   "source": [
    "bybit_data = instance.get_all('Bybit', 'BTC/USD:BTC', 'BTCUSD', '1d', '01.11.2018', '01.01.2024')\n",
    "bybit_data.to_csv('data/btc inverse perps/Bybit_1d.csv')"
   ]
  },
  {
   "cell_type": "markdown",
   "metadata": {},
   "source": [
    "Bitget BTCUSD\n",
    "CoinGlass: BTCUSD_DMCBL\n",
    "ccxt: BTC/USD:BTC\n",
    "timestamp: 2023-04-19"
   ]
  },
  {
   "cell_type": "code",
   "execution_count": 51,
   "metadata": {},
   "outputs": [],
   "source": [
    "bitget_data = instance.get_all('Bitget', 'BTC/USD:BTC', 'BTCUSD_DMCBL', '1d', '01.01.2023', '01.01.2024')\n",
    "bitget_data.to_csv('data/btc inverse perps/Bitget_1d.csv')"
   ]
  },
  {
   "cell_type": "markdown",
   "metadata": {},
   "source": [
    "Bitmex XBTUSD.P\n",
    "CoinGlass: XBTUSD\n",
    "ccxt: BTC/USD:BTC\n",
    "timestamp: 2015-09-25"
   ]
  },
  {
   "cell_type": "code",
   "execution_count": 59,
   "metadata": {},
   "outputs": [],
   "source": [
    "bitmex_data = instance.get_all('Bitmex', 'BTC/USD:BTC', 'XBTUSD', '1d', '01.09.2015', '01.01.2024')\n",
    "bitmex_data.to_csv('data/btc inverse perps/Bitmex_1d.csv')"
   ]
  },
  {
   "cell_type": "markdown",
   "metadata": {},
   "source": [
    "Okex BTCUSD-PERP\n",
    "CoinGlass: BTC-USD-SWAP\n",
    "ccxt: BTC/USD:BTC\n",
    "timestamp: 2020-01-10"
   ]
  },
  {
   "cell_type": "code",
   "execution_count": 71,
   "metadata": {},
   "outputs": [],
   "source": [
    "okx_data = instance.get_all('OKX', 'BTC/USD:BTC', 'BTC-USD-SWAP', '1d', '01.01.2020', '01.01.2024')\n",
    "okx_data.to_csv('data/btc inverse perps/OKX_1d.csv')"
   ]
  },
  {
   "cell_type": "markdown",
   "metadata": {},
   "source": [
    "Kraken PI_XBTUSD\n",
    "CoinGlass: PI_XBTUSD\n",
    "ccxt: BTC/USD:BTC\n",
    "timestamp: 2020-02-26"
   ]
  },
  {
   "cell_type": "code",
   "execution_count": 3,
   "metadata": {},
   "outputs": [],
   "source": [
    "kraken_data = instance.get_all('Kraken', 'BTC/USD:BTC', 'PI_XBTUSD', '1d', '01.01.2020', '01.01.2024', True)\n",
    "kraken_data.to_csv('data/btc inverse perps/Kraken_1d.csv')"
   ]
  },
  {
   "cell_type": "markdown",
   "metadata": {},
   "source": [
    "Bitmex BITCOIN / U.S DOLLAR Index"
   ]
  },
  {
   "cell_type": "code",
   "execution_count": 9,
   "metadata": {},
   "outputs": [],
   "source": [
    "bitmex_index = instance.get_ohlcv('Bitmex', '.XBT', '1d', '30.03.2020', '01.01.2024')\n",
    "bitmex_index.to_csv('data/Bitmex_BTCUSD_index_1d.csv')"
   ]
  }
 ],
 "metadata": {
  "kernelspec": {
   "display_name": "analysis",
   "language": "python",
   "name": "python3"
  },
  "language_info": {
   "codemirror_mode": {
    "name": "ipython",
    "version": 3
   },
   "file_extension": ".py",
   "mimetype": "text/x-python",
   "name": "python",
   "nbconvert_exporter": "python",
   "pygments_lexer": "ipython3",
   "version": "3.10.4"
  }
 },
 "nbformat": 4,
 "nbformat_minor": 2
}
